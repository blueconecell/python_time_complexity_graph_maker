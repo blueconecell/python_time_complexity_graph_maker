{
 "cells": [
  {
   "cell_type": "code",
   "execution_count": 2,
   "id": "7ee5466d",
   "metadata": {},
   "outputs": [],
   "source": [
    "import time\n",
    "from random import randrange\n",
    "import matplotlib.pyplot as plt\n",
    "from collections import deque\n",
    "import heapq"
   ]
  },
  {
   "cell_type": "markdown",
   "id": "17ffd008",
   "metadata": {},
   "source": [
    "- 배열을 매개변수로 받는 함수 테스트"
   ]
  },
  {
   "cell_type": "code",
   "execution_count": 33,
   "id": "20c956cf",
   "metadata": {},
   "outputs": [],
   "source": [
    "def test_for_arr(arr):\n",
    "    for i in range(len(arr)//10):\n",
    "        for j in range(len(arr)//10):\n",
    "            \n",
    "            p = [i,j]\n",
    "            \n",
    "    return "
   ]
  },
  {
   "cell_type": "code",
   "execution_count": 34,
   "id": "5023913d",
   "metadata": {},
   "outputs": [
    {
     "name": "stdout",
     "output_type": "stream",
     "text": [
      "1 번째, 배열길이 : 1000, 소요시간 : 0.000997\n",
      "2 번째, 배열길이 : 1100, 소요시간 : 0.001998\n",
      "3 번째, 배열길이 : 1200, 소요시간 : 0.000740\n",
      "4 번째, 배열길이 : 1300, 소요시간 : 0.000000\n",
      "5 번째, 배열길이 : 1400, 소요시간 : 0.000000\n",
      "6 번째, 배열길이 : 1500, 소요시간 : 0.000000\n",
      "7 번째, 배열길이 : 1600, 소요시간 : 0.010984\n",
      "8 번째, 배열길이 : 1700, 소요시간 : 0.002037\n",
      "9 번째, 배열길이 : 1800, 소요시간 : 0.001996\n",
      "10 번째, 배열길이 : 1900, 소요시간 : 0.001993\n",
      "11 번째, 배열길이 : 2000, 소요시간 : 0.001996\n",
      "12 번째, 배열길이 : 2100, 소요시간 : 0.002955\n",
      "13 번째, 배열길이 : 2200, 소요시간 : 0.003028\n",
      "14 번째, 배열길이 : 2300, 소요시간 : 0.002990\n",
      "15 번째, 배열길이 : 2400, 소요시간 : 0.002992\n",
      "16 번째, 배열길이 : 2500, 소요시간 : 0.002378\n",
      "17 번째, 배열길이 : 2600, 소요시간 : 0.000000\n",
      "18 번째, 배열길이 : 2700, 소요시간 : 0.000000\n",
      "19 번째, 배열길이 : 2800, 소요시간 : 0.015664\n",
      "20 번째, 배열길이 : 2900, 소요시간 : 0.000000\n",
      "21 번째, 배열길이 : 3000, 소요시간 : 0.015579\n",
      "22 번째, 배열길이 : 3100, 소요시간 : 0.000000\n",
      "23 번째, 배열길이 : 3200, 소요시간 : 0.015623\n",
      "24 번째, 배열길이 : 3300, 소요시간 : 0.000000\n",
      "25 번째, 배열길이 : 3400, 소요시간 : 0.000000\n",
      "26 번째, 배열길이 : 3500, 소요시간 : 0.000000\n",
      "27 번째, 배열길이 : 3600, 소요시간 : 0.015582\n",
      "28 번째, 배열길이 : 3700, 소요시간 : 0.000000\n",
      "29 번째, 배열길이 : 3800, 소요시간 : 0.015657\n",
      "30 번째, 배열길이 : 3900, 소요시간 : 0.015622\n",
      "31 번째, 배열길이 : 4000, 소요시간 : 0.000000\n",
      "32 번째, 배열길이 : 4100, 소요시간 : 0.015583\n",
      "33 번째, 배열길이 : 4200, 소요시간 : 0.015621\n",
      "34 번째, 배열길이 : 4300, 소요시간 : 0.015660\n",
      "35 번째, 배열길이 : 4400, 소요시간 : 0.014966\n",
      "36 번째, 배열길이 : 4500, 소요시간 : 0.011968\n",
      "37 번째, 배열길이 : 4600, 소요시간 : 0.009406\n",
      "38 번째, 배열길이 : 4700, 소요시간 : 0.015660\n",
      "39 번째, 배열길이 : 4800, 소요시간 : 0.015621\n",
      "40 번째, 배열길이 : 4900, 소요시간 : 0.015582\n",
      "41 번째, 배열길이 : 5000, 소요시간 : 0.015660\n",
      "42 번째, 배열길이 : 5100, 소요시간 : 0.015627\n",
      "43 번째, 배열길이 : 5200, 소요시간 : 0.031199\n",
      "44 번째, 배열길이 : 5300, 소요시간 : 0.015621\n",
      "45 번째, 배열길이 : 5400, 소요시간 : 0.015661\n",
      "46 번째, 배열길이 : 5500, 소요시간 : 0.015625\n",
      "47 번째, 배열길이 : 5600, 소요시간 : 0.038027\n",
      "48 번째, 배열길이 : 5700, 소요시간 : 0.018961\n",
      "49 번째, 배열길이 : 5800, 소요시간 : 0.015607\n",
      "50 번째, 배열길이 : 5900, 소요시간 : 0.031279\n",
      "51 번째, 배열길이 : 6000, 소요시간 : 0.015626\n",
      "52 번째, 배열길이 : 6100, 소요시간 : 0.031200\n",
      "53 번째, 배열길이 : 6200, 소요시간 : 0.015660\n",
      "54 번째, 배열길이 : 6300, 소요시간 : 0.015619\n",
      "55 번째, 배열길이 : 6400, 소요시간 : 0.031249\n",
      "56 번째, 배열길이 : 6500, 소요시간 : 0.031201\n",
      "57 번째, 배열길이 : 6600, 소요시간 : 0.046863\n",
      "58 번째, 배열길이 : 6700, 소요시간 : 0.030070\n",
      "59 번째, 배열길이 : 6800, 소요시간 : 0.021680\n",
      "60 번째, 배열길이 : 6900, 소요시간 : 0.046857\n",
      "61 번째, 배열길이 : 7000, 소요시간 : 0.031204\n",
      "62 번째, 배열길이 : 7100, 소요시간 : 0.040438\n",
      "63 번째, 배열길이 : 7200, 소요시간 : 0.042751\n",
      "64 번째, 배열길이 : 7300, 소요시간 : 0.033937\n",
      "65 번째, 배열길이 : 7400, 소요시간 : 0.083060\n",
      "66 번째, 배열길이 : 7500, 소요시간 : 0.065147\n",
      "67 번째, 배열길이 : 7600, 소요시간 : 0.024822\n",
      "68 번째, 배열길이 : 7700, 소요시간 : 0.056890\n",
      "69 번째, 배열길이 : 7800, 소요시간 : 0.047923\n",
      "70 번째, 배열길이 : 7900, 소요시간 : 0.031244\n",
      "71 번째, 배열길이 : 8000, 소요시간 : 0.033374\n",
      "72 번째, 배열길이 : 8100, 소요시간 : 0.046865\n",
      "73 번째, 배열길이 : 8200, 소요시간 : 0.046866\n",
      "74 번째, 배열길이 : 8300, 소요시간 : 0.048348\n",
      "75 번째, 배열길이 : 8400, 소요시간 : 0.031286\n",
      "76 번째, 배열길이 : 8500, 소요시간 : 0.031282\n",
      "77 번째, 배열길이 : 8600, 소요시간 : 0.050323\n",
      "78 번째, 배열길이 : 8700, 소요시간 : 0.083511\n",
      "79 번째, 배열길이 : 8800, 소요시간 : 0.069293\n",
      "80 번째, 배열길이 : 8900, 소요시간 : 0.054046\n",
      "81 번째, 배열길이 : 9000, 소요시간 : 0.062526\n",
      "82 번째, 배열길이 : 9100, 소요시간 : 0.068400\n",
      "83 번째, 배열길이 : 9200, 소요시간 : 0.062529\n",
      "84 번째, 배열길이 : 9300, 소요시간 : 0.048416\n",
      "85 번째, 배열길이 : 9400, 소요시간 : 0.078106\n",
      "86 번째, 배열길이 : 9500, 소요시간 : 0.046863\n",
      "87 번째, 배열길이 : 9600, 소요시간 : 0.066272\n",
      "88 번째, 배열길이 : 9700, 소요시간 : 0.100804\n",
      "89 번째, 배열길이 : 9800, 소요시간 : 0.081391\n",
      "90 번째, 배열길이 : 9900, 소요시간 : 0.083800\n",
      "91 번째, 배열길이 : 10000, 소요시간 : 0.059260\n"
     ]
    },
    {
     "data": {
      "image/png": "[encoded data removed]",
      "text/plain": [
       "<Figure size 432x288 with 1 Axes>"
      ]
     },
     "metadata": {
      "needs_background": "light"
     },
     "output_type": "display_data"
    }
   ],
   "source": [
    "idx = 1\n",
    "x_axis = []\n",
    "y_axis = []\n",
    "\n",
    "for size in range(1_000, 10_001, 100):\n",
    "    \n",
    "    # test array \n",
    "    test_arr = [randrange(1_000) for _ in range(size)]\n",
    "    \n",
    "    start_time = time.time()\n",
    "    \n",
    "    ########## input fuction ##########\n",
    "    \n",
    "    test_for_arr(test_arr)\n",
    "    \n",
    "    ###################################\n",
    "    \n",
    "    end_time = time.time()\n",
    "    x_axis.append(size)\n",
    "    y_axis.append(end_time - start_time)\n",
    "    print(f'{idx} 번째, 배열길이 : {size}, 소요시간 : {end_time - start_time:.6f}')\n",
    "    \n",
    "    idx += 1\n",
    "    \n",
    "plt.plot(x_axis, y_axis)\n",
    "plt.show()\n",
    "    "
   ]
  },
  {
   "cell_type": "code",
   "execution_count": null,
   "id": "170eee6f",
   "metadata": {},
   "outputs": [],
   "source": []
  }
 ],
 "metadata": {
  "kernelspec": {
   "display_name": "Python 3 (ipykernel)",
   "language": "python",
   "name": "python3"
  },
  "language_info": {
   "codemirror_mode": {
    "name": "ipython",
    "version": 3
   },
   "file_extension": ".py",
   "mimetype": "text/x-python",
   "name": "python",
   "nbconvert_exporter": "python",
   "pygments_lexer": "ipython3",
   "version": "3.9.12"
  }
 },
 "nbformat": 4,
 "nbformat_minor": 5
}
